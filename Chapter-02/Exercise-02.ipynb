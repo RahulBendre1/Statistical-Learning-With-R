{
 "cells": [
  {
   "cell_type": "markdown",
   "metadata": {},
   "source": [
    "# <font style = \"color:rgb(50,120,229)\">Conceptual</font>"
   ]
  },
  {
   "cell_type": "markdown",
   "metadata": {},
   "source": [
    "## <font style = \"color:rgb(50,120,229)\">Question 1</font>"
   ]
  },
  {
   "cell_type": "markdown",
   "metadata": {},
   "source": [
    "(a) Since the sample size is large, chances of a flexible statistical method of overfitting are lower and that's why its performance will be higher.\n",
    "\n",
    "(b) If the number of observations is small, a flexible statistical method will result in overfitting. In such a case, an inflexible method like linear regression will give better performance.\n",
    "\n",
    "(c) If the relationship between dependent and independent variables is highly non-linear, a flexible statistical method will be able to estimate it better and is thus a better choice.\n",
    "\n",
    "(d) If variance of error term is extremely high, the flexible method will end up learning it as well and will thus result in a lower performance. Thus, a inflexible method will be a better choice."
   ]
  },
  {
   "cell_type": "markdown",
   "metadata": {},
   "source": [
    "## <font style = \"color:rgb(50,120,229)\">Question 2</font>"
   ]
  },
  {
   "cell_type": "markdown",
   "metadata": {},
   "source": [
    "(a) n = 500, p = profit, number of employees, industry\n",
    "\n",
    "Since CEO salary is a continuous variable, this is a **regression** type problem and we are interested in studying the effect of the variables (profit, number of employees, industry) on CEO's salary and that's why, it's an **inference** problem.\n",
    "\n",
    "(b) "
   ]
  }
 ],
 "metadata": {
  "kernelspec": {
   "display_name": "R",
   "language": "R",
   "name": "ir"
  },
  "language_info": {
   "codemirror_mode": "r",
   "file_extension": ".r",
   "mimetype": "text/x-r-source",
   "name": "R",
   "pygments_lexer": "r",
   "version": "3.4.4"
  }
 },
 "nbformat": 4,
 "nbformat_minor": 2
}
